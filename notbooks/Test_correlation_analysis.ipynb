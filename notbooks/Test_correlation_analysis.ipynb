{
 "cells": [
  {
   "cell_type": "markdown",
   "metadata": {},
   "source": [
    "# Task 3: Correlation Analysis between News Sentiment and Stock Price Movements\n",
    "\n",
    "This notebook demonstrates how to analyze the relationship between news sentiment and stock price movements using the modular codebase.  \n",
    "We will:\n",
    "- Score news headlines for sentiment\n",
    "- Aggregate sentiment by date\n",
    "- Merge with stock price and indicator data\n",
    "- Compute and visualize correlations"
   ]
  },
  {
   "cell_type": "code",
   "execution_count": 5,
   "metadata": {},
   "outputs": [],
   "source": [
    "import sys\n",
    "import os\n",
    "\n",
    "# Add the src directory to sys.path\n",
    "src_path = os.path.abspath(os.path.join(os.getcwd(), '..', 'src'))\n",
    "if src_path not in sys.path:\n",
    "    sys.path.insert(0, src_path)"
   ]
  },
  {
   "cell_type": "code",
   "execution_count": 6,
   "metadata": {},
   "outputs": [],
   "source": [
    "import pandas as pd\n",
    "from sentiment_analysis import score_headlines_vader\n",
    "from correlation_analysis import (\n",
    "    merge_sentiment_price,\n",
    "    compute_correlations,\n",
    "    plot_correlation_heatmap\n",
    ")\n",
    "import matplotlib.pyplot as plt\n",
    "import seaborn as sns"
   ]
  },
  {
   "cell_type": "markdown",
   "metadata": {},
   "source": [
    "## 1. Load News and Price Data\n",
    "\n",
    "Replace the file paths and column names as needed for your data."
   ]
  },
  {
   "cell_type": "code",
   "execution_count": null,
   "metadata": {},
   "outputs": [],
   "source": [
    "# Load news data (update the path as needed)\n",
    "news_df = pd.read_csv('../data/raw_analys_ratings.csv')\n",
    "\n",
    "# Load price/indicator data (update the path as needed)\n",
    "price_df = pd.read_csv('../data/yfinance_data')\n",
    "\n",
    "# Preview the data\n",
    "display(news_df.head())\n",
    "display(price_df.head())"
   ]
  },
  {
   "cell_type": "markdown",
   "metadata": {},
   "source": [
    "## 2. Score News Headlines for Sentiment\n",
    "\n",
    "We use the VADER sentiment analyzer to score each headline.  \n",
    "This will add four columns: `sentiment_neg`, `sentiment_neu`, `sentiment_pos`, and `sentiment_compound`."
   ]
  },
  {
   "cell_type": "code",
   "execution_count": null,
   "metadata": {},
   "outputs": [],
   "source": [
    "# Score sentiment for each headline (update 'headline' if your column is named differently)\n",
    "news_df = score_headlines_vader(news_df, text_col='headline')\n",
    "\n",
    "# Preview sentiment columns\n",
    "news_df[['headline', 'sentiment_neg', 'sentiment_neu', 'sentiment_pos', 'sentiment_compound']].head()"
   ]
  },
  {
   "cell_type": "markdown",
   "metadata": {},
   "source": [
    "## 3. Aggregate Sentiment by Date\n",
    "\n",
    "Aggregate sentiment scores to the daily level to match the granularity of price data."
   ]
  },
  {
   "cell_type": "code",
   "execution_count": null,
   "metadata": {},
   "outputs": [],
   "source": [
    "# Ensure 'date' column is datetime\n",
    "news_df['date'] = pd.to_datetime(news_df['date'])\n",
    "\n",
    "# Aggregate: mean sentiment per day\n",
    "daily_sentiment = news_df.groupby('date').agg({\n",
    "    'sentiment_neg': 'mean',\n",
    "    'sentiment_neu': 'mean',\n",
    "    'sentiment_pos': 'mean',\n",
    "    'sentiment_compound': 'mean'\n",
    "}).reset_index()\n",
    "\n",
    "daily_sentiment.head()"
   ]
  },
  {
   "cell_type": "markdown",
   "metadata": {},
   "source": [
    "## 4. Prepare Price Data\n",
    "\n",
    "Ensure price data has a 'date' column and relevant indicators/returns."
   ]
  },
  {
   "cell_type": "code",
   "execution_count": null,
   "metadata": {},
   "outputs": [],
   "source": [
    "# Ensure 'date' column is datetime\n",
    "price_df['date'] = pd.to_datetime(price_df['date'])\n",
    "\n",
    "# Preview columns to select which indicators/returns to use\n",
    "print(price_df.columns)\n",
    "price_df.head()"
   ]
  },
  {
   "cell_type": "markdown",
   "metadata": {},
   "source": [
    "## 5. Merge Sentiment and Price Data\n",
    "\n",
    "Use the provided merge function to align sentiment and price data by date."
   ]
  },
  {
   "cell_type": "code",
   "execution_count": null,
   "metadata": {},
   "outputs": [],
   "source": [
    "# Merge on 'date'\n",
    "merged_df = merge_sentiment_price(daily_sentiment, price_df, date_col='date')\n",
    "\n",
    "# Preview merged data\n",
    "merged_df.head()"
   ]
  },
  {
   "cell_type": "markdown",
   "metadata": {},
   "source": [
    "## 6. Compute Correlations\n",
    "\n",
    "Choose which sentiment and price columns to correlate.  \n",
    "We will compute the Pearson correlation matrix."
   ]
  },
  {
   "cell_type": "code",
   "execution_count": null,
   "metadata": {},
   "outputs": [],
   "source": [
    "# Define columns to correlate\n",
    "sentiment_cols = ['sentiment_neg', 'sentiment_neu', 'sentiment_pos', 'sentiment_compound']\n",
    "# Update these with your actual indicator/return column names\n",
    "price_cols = ['daily_return', 'SMA_20', 'EMA_20', 'RSI_14', 'MACD']\n",
    "\n",
    "# Compute Pearson correlation\n",
    "corr_matrix = compute_correlations(merged_df, sentiment_cols, price_cols, method='pearson')\n",
    "corr_matrix"
   ]
  },
  {
   "cell_type": "markdown",
   "metadata": {},
   "source": [
    "## 7. Visualize Correlations\n",
    "\n",
    "Plot a heatmap for easy interpretation of the correlation matrix."
   ]
  },
  {
   "cell_type": "code",
   "execution_count": null,
   "metadata": {},
   "outputs": [],
   "source": [
    "plot_correlation_heatmap(corr_matrix, title='Sentiment vs Price Indicator Correlations (Pearson)')"
   ]
  },
  {
   "cell_type": "markdown",
   "metadata": {},
   "source": [
    "## 8. (Optional) Spearman Correlation\n",
    "\n",
    "Spearman correlation can capture non-linear relationships."
   ]
  },
  {
   "cell_type": "code",
   "execution_count": null,
   "metadata": {},
   "outputs": [],
   "source": [
    "# Compute Spearman correlation\n",
    "corr_matrix_spearman = compute_correlations(merged_df, sentiment_cols, price_cols, method='spearman')\n",
    "display(corr_matrix_spearman)\n",
    "\n",
    "# Plot\n",
    "plot_correlation_heatmap(corr_matrix_spearman, title='Sentiment vs Price Indicator Correlations (Spearman)')"
   ]
  },
  {
   "cell_type": "markdown",
   "metadata": {},
   "source": [
    "## 9. Lagged Correlation Analysis\n",
    "\n",
    "Lagged correlation helps determine if sentiment on day *t* is correlated with price movements on day *t+1*, *t+2*, etc.\n",
    "We will shift the sentiment columns forward and compute correlations with future price indicators."
   ]
  },
  {
   "cell_type": "code",
   "execution_count": null,
   "metadata": {},
   "outputs": [],
   "source": [
    "# Number of days to lag (e.g., 1 for next day, 2 for two days ahead)\n",
    "lag_days = 1\n",
    "\n",
    "# Create lagged sentiment columns (shift forward, so sentiment leads price)\n",
    "for col in sentiment_cols:\n",
    "    merged_df[f'{col}_lag{lag_days}'] = merged_df[col].shift(lag_days)\n",
    "\n",
    "# Drop rows with NaN due to shifting\n",
    "lagged_df = merged_df.dropna(subset=[f'{col}_lag{lag_days}' for col in sentiment_cols])\n",
    "\n",
    "# Preview\n",
    "lagged_df[[f'{col}_lag{lag_days}' for col in sentiment_cols] + price_cols].head()"
   ]
  },
  {
   "cell_type": "markdown",
   "metadata": {},
   "source": [
    "# Compute correlation between lagged sentiment and price indicators\n",
    "lagged_sentiment_cols = [f'{col}_lag{lag_days}' for col in sentiment_cols]\n",
    "lagged_corr_matrix = compute_correlations(lagged_df, lagged_sentiment_cols, price_cols, method='pearson')\n",
    "lagged_corr_matrix"
   ]
  },
  {
   "cell_type": "code",
   "execution_count": null,
   "metadata": {},
   "outputs": [],
   "source": [
    "plot_correlation_heatmap(\n",
    "    lagged_corr_matrix,\n",
    "    title=f'Lagged Sentiment (t-{lag_days}) vs Price Indicator Correlations (Pearson)'\n",
    ")"
   ]
  },
  {
   "cell_type": "markdown",
   "metadata": {},
   "source": [
    "### Try Multiple Lags\n",
    "\n",
    "You can repeat the above for different values of `lag_days` (e.g., 1, 2, 3) to see how predictive power changes over time."
   ]
  },
  {
   "cell_type": "markdown",
   "metadata": {},
   "source": [
    "## 10. Granger Causality Test\n",
    "\n",
    "Granger causality tests whether past values of sentiment help predict future values of a price indicator, beyond what past values of the indicator itself can predict.\n",
    "\n",
    "We use the `statsmodels` library for this test."
   ]
  },
  {
   "cell_type": "code",
   "execution_count": null,
   "metadata": {},
   "outputs": [],
   "source": [
    "from statsmodels.tsa.stattools import grangercausalitytests\n",
    "\n",
    "# Choose a price indicator and a sentiment column (not lagged)\n",
    "target_price_col = 'daily_return'  # Update as needed\n",
    "sentiment_col = 'sentiment_compound'\n",
    "\n",
    "# Prepare the data for Granger causality test\n",
    "# The test expects a 2D array: [target, predictor]\n",
    "gc_df = merged_df[[target_price_col, sentiment_col]].dropna()\n",
    "\n",
    "# Maximum number of lags to test (e.g., 1 to 3 days)\n",
    "max_lag = 3\n",
    "\n",
    "# Run Granger causality test\n",
    "print(f'Granger causality test: Does {sentiment_col} Granger-cause {target_price_col}?')\n",
    "granger_result = grangercausalitytests(gc_df, maxlag=max_lag, verbose=True)"
   ]
  },
  {
   "cell_type": "markdown",
   "metadata": {},
   "source": [
    "### Interpreting Granger Causality Results\n",
    "\n",
    "- For each lag, look at the p-value for the F-test (`ssr_ftest`).\n",
    "- If the p-value is **less than 0.05**, there is evidence that sentiment Granger-causes the price indicator at that lag.\n",
    "- Try different sentiment and price columns for a comprehensive analysis."
   ]
  },
  {
   "cell_type": "markdown",
   "metadata": {},
   "source": [
    "---\n",
    "\n",
    "## Summary\n",
    "\n",
    "- We explored both contemporaneous and lagged correlations between news sentiment and stock price indicators.\n",
    "- We used Granger causality to test if sentiment helps predict future price movements.\n",
    "- Next, interpret your findings in the context of your business question and consider further modeling (e.g., regression, machine learning) if predictive relationships are found.\n",
    "\n",
    "---"
   ]
  }
 ],
 "metadata": {
  "kernelspec": {
   "display_name": "venv",
   "language": "python",
   "name": "python3"
  },
  "language_info": {
   "codemirror_mode": {
    "name": "ipython",
    "version": 3
   },
   "file_extension": ".py",
   "mimetype": "text/x-python",
   "name": "python",
   "nbconvert_exporter": "python",
   "pygments_lexer": "ipython3",
   "version": "3.13.3"
  }
 },
 "nbformat": 4,
 "nbformat_minor": 2
}
